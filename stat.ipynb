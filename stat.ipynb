{
 "cells": [
  {
   "cell_type": "code",
   "execution_count": 1,
   "metadata": {},
   "outputs": [],
   "source": [
    "import pandas as pd\n",
    "from scipy.stats import ttest_ind\n",
    "from scipy.stats import kruskal\n"
   ]
  },
  {
   "cell_type": "code",
   "execution_count": 2,
   "metadata": {},
   "outputs": [],
   "source": [
    "df = pd.read_csv('stat.csv',) # 推理能耗\n",
    "df = pd.read_csv('stat_time.csv',) # 推理时间"
   ]
  },
  {
   "cell_type": "code",
   "execution_count": 3,
   "metadata": {},
   "outputs": [],
   "source": [
    "df_onnx = df[df[\"format\"] == \"ONNX\"]\n",
    "df_h5 = df[df[\"format\"] == \"H5\"]\n",
    "df_pth = df[df[\"format\"] == \"PTH\"]\n",
    "df_coreml = df[df[\"format\"] == \"CoreML\"]\n",
    "df_pmml = df[df[\"format\"] == \"PMML\"]\n",
    "df_joblib = df[df[\"format\"] == \"Joblib\"]\n",
    "df_json = df[df[\"format\"] == \"Json\"]"
   ]
  },
  {
   "cell_type": "code",
   "execution_count": 5,
   "metadata": {},
   "outputs": [
    {
     "data": {
      "text/html": [
       "<div>\n",
       "<style scoped>\n",
       "    .dataframe tbody tr th:only-of-type {\n",
       "        vertical-align: middle;\n",
       "    }\n",
       "\n",
       "    .dataframe tbody tr th {\n",
       "        vertical-align: top;\n",
       "    }\n",
       "\n",
       "    .dataframe thead th {\n",
       "        text-align: right;\n",
       "    }\n",
       "</style>\n",
       "<table border=\"1\" class=\"dataframe\">\n",
       "  <thead>\n",
       "    <tr style=\"text-align: right;\">\n",
       "      <th></th>\n",
       "      <th>model</th>\n",
       "      <th>format</th>\n",
       "      <th>batch_size</th>\n",
       "      <th>cost</th>\n",
       "    </tr>\n",
       "  </thead>\n",
       "  <tbody>\n",
       "    <tr>\n",
       "      <th>10</th>\n",
       "      <td>LSTM</td>\n",
       "      <td>PTH</td>\n",
       "      <td>1</td>\n",
       "      <td>10864.070</td>\n",
       "    </tr>\n",
       "    <tr>\n",
       "      <th>11</th>\n",
       "      <td>LSTM</td>\n",
       "      <td>PTH</td>\n",
       "      <td>16</td>\n",
       "      <td>9810.600</td>\n",
       "    </tr>\n",
       "    <tr>\n",
       "      <th>12</th>\n",
       "      <td>LSTM</td>\n",
       "      <td>PTH</td>\n",
       "      <td>32</td>\n",
       "      <td>5714.150</td>\n",
       "    </tr>\n",
       "    <tr>\n",
       "      <th>13</th>\n",
       "      <td>LSTM</td>\n",
       "      <td>PTH</td>\n",
       "      <td>64</td>\n",
       "      <td>5514.540</td>\n",
       "    </tr>\n",
       "    <tr>\n",
       "      <th>14</th>\n",
       "      <td>LSTM</td>\n",
       "      <td>PTH</td>\n",
       "      <td>128</td>\n",
       "      <td>4910.660</td>\n",
       "    </tr>\n",
       "    <tr>\n",
       "      <th>30</th>\n",
       "      <td>CNN</td>\n",
       "      <td>PTH</td>\n",
       "      <td>1</td>\n",
       "      <td>2166.240</td>\n",
       "    </tr>\n",
       "    <tr>\n",
       "      <th>31</th>\n",
       "      <td>CNN</td>\n",
       "      <td>PTH</td>\n",
       "      <td>16</td>\n",
       "      <td>1290.120</td>\n",
       "    </tr>\n",
       "    <tr>\n",
       "      <th>32</th>\n",
       "      <td>CNN</td>\n",
       "      <td>PTH</td>\n",
       "      <td>32</td>\n",
       "      <td>617.970</td>\n",
       "    </tr>\n",
       "    <tr>\n",
       "      <th>33</th>\n",
       "      <td>CNN</td>\n",
       "      <td>PTH</td>\n",
       "      <td>64</td>\n",
       "      <td>370.800</td>\n",
       "    </tr>\n",
       "    <tr>\n",
       "      <th>34</th>\n",
       "      <td>CNN</td>\n",
       "      <td>PTH</td>\n",
       "      <td>128</td>\n",
       "      <td>242.200</td>\n",
       "    </tr>\n",
       "    <tr>\n",
       "      <th>50</th>\n",
       "      <td>RandomForest_TEXT</td>\n",
       "      <td>PTH</td>\n",
       "      <td>1</td>\n",
       "      <td>37888.000</td>\n",
       "    </tr>\n",
       "    <tr>\n",
       "      <th>51</th>\n",
       "      <td>RandomForest_TEXT</td>\n",
       "      <td>PTH</td>\n",
       "      <td>16</td>\n",
       "      <td>12780.000</td>\n",
       "    </tr>\n",
       "    <tr>\n",
       "      <th>52</th>\n",
       "      <td>RandomForest_TEXT</td>\n",
       "      <td>PTH</td>\n",
       "      <td>32</td>\n",
       "      <td>8624.000</td>\n",
       "    </tr>\n",
       "    <tr>\n",
       "      <th>53</th>\n",
       "      <td>RandomForest_TEXT</td>\n",
       "      <td>PTH</td>\n",
       "      <td>64</td>\n",
       "      <td>4827.680</td>\n",
       "    </tr>\n",
       "    <tr>\n",
       "      <th>54</th>\n",
       "      <td>RandomForest_TEXT</td>\n",
       "      <td>PTH</td>\n",
       "      <td>128</td>\n",
       "      <td>1284.180</td>\n",
       "    </tr>\n",
       "    <tr>\n",
       "      <th>70</th>\n",
       "      <td>RandomForest_IMAGE</td>\n",
       "      <td>PTH</td>\n",
       "      <td>1</td>\n",
       "      <td>111828.000</td>\n",
       "    </tr>\n",
       "    <tr>\n",
       "      <th>71</th>\n",
       "      <td>RandomForest_IMAGE</td>\n",
       "      <td>PTH</td>\n",
       "      <td>16</td>\n",
       "      <td>4553.760</td>\n",
       "    </tr>\n",
       "    <tr>\n",
       "      <th>72</th>\n",
       "      <td>RandomForest_IMAGE</td>\n",
       "      <td>PTH</td>\n",
       "      <td>32</td>\n",
       "      <td>1364.610</td>\n",
       "    </tr>\n",
       "    <tr>\n",
       "      <th>73</th>\n",
       "      <td>RandomForest_IMAGE</td>\n",
       "      <td>PTH</td>\n",
       "      <td>64</td>\n",
       "      <td>541.560</td>\n",
       "    </tr>\n",
       "    <tr>\n",
       "      <th>74</th>\n",
       "      <td>RandomForest_IMAGE</td>\n",
       "      <td>PTH</td>\n",
       "      <td>128</td>\n",
       "      <td>212.630</td>\n",
       "    </tr>\n",
       "    <tr>\n",
       "      <th>90</th>\n",
       "      <td>XGboost_TEXT</td>\n",
       "      <td>PTH</td>\n",
       "      <td>1</td>\n",
       "      <td>598.560</td>\n",
       "    </tr>\n",
       "    <tr>\n",
       "      <th>91</th>\n",
       "      <td>XGboost_TEXT</td>\n",
       "      <td>PTH</td>\n",
       "      <td>16</td>\n",
       "      <td>392.560</td>\n",
       "    </tr>\n",
       "    <tr>\n",
       "      <th>92</th>\n",
       "      <td>XGboost_TEXT</td>\n",
       "      <td>PTH</td>\n",
       "      <td>32</td>\n",
       "      <td>290.290</td>\n",
       "    </tr>\n",
       "    <tr>\n",
       "      <th>93</th>\n",
       "      <td>XGboost_TEXT</td>\n",
       "      <td>PTH</td>\n",
       "      <td>64</td>\n",
       "      <td>234.110</td>\n",
       "    </tr>\n",
       "    <tr>\n",
       "      <th>94</th>\n",
       "      <td>XGboost_TEXT</td>\n",
       "      <td>PTH</td>\n",
       "      <td>128</td>\n",
       "      <td>166.300</td>\n",
       "    </tr>\n",
       "    <tr>\n",
       "      <th>105</th>\n",
       "      <td>XGboost_IMAGE</td>\n",
       "      <td>PTH</td>\n",
       "      <td>1</td>\n",
       "      <td>6382.950</td>\n",
       "    </tr>\n",
       "    <tr>\n",
       "      <th>106</th>\n",
       "      <td>XGboost_IMAGE</td>\n",
       "      <td>PTH</td>\n",
       "      <td>16</td>\n",
       "      <td>45.910</td>\n",
       "    </tr>\n",
       "    <tr>\n",
       "      <th>107</th>\n",
       "      <td>XGboost_IMAGE</td>\n",
       "      <td>PTH</td>\n",
       "      <td>32</td>\n",
       "      <td>27.190</td>\n",
       "    </tr>\n",
       "    <tr>\n",
       "      <th>108</th>\n",
       "      <td>XGboost_IMAGE</td>\n",
       "      <td>PTH</td>\n",
       "      <td>64</td>\n",
       "      <td>16.296</td>\n",
       "    </tr>\n",
       "    <tr>\n",
       "      <th>109</th>\n",
       "      <td>XGboost_IMAGE</td>\n",
       "      <td>PTH</td>\n",
       "      <td>128</td>\n",
       "      <td>12.370</td>\n",
       "    </tr>\n",
       "  </tbody>\n",
       "</table>\n",
       "</div>"
      ],
      "text/plain": [
       "                  model format  batch_size        cost\n",
       "10                 LSTM    PTH           1   10864.070\n",
       "11                 LSTM    PTH          16    9810.600\n",
       "12                 LSTM    PTH          32    5714.150\n",
       "13                 LSTM    PTH          64    5514.540\n",
       "14                 LSTM    PTH         128    4910.660\n",
       "30                  CNN    PTH           1    2166.240\n",
       "31                  CNN    PTH          16    1290.120\n",
       "32                  CNN    PTH          32     617.970\n",
       "33                  CNN    PTH          64     370.800\n",
       "34                  CNN    PTH         128     242.200\n",
       "50    RandomForest_TEXT    PTH           1   37888.000\n",
       "51    RandomForest_TEXT    PTH          16   12780.000\n",
       "52    RandomForest_TEXT    PTH          32    8624.000\n",
       "53    RandomForest_TEXT    PTH          64    4827.680\n",
       "54    RandomForest_TEXT    PTH         128    1284.180\n",
       "70   RandomForest_IMAGE    PTH           1  111828.000\n",
       "71   RandomForest_IMAGE    PTH          16    4553.760\n",
       "72   RandomForest_IMAGE    PTH          32    1364.610\n",
       "73   RandomForest_IMAGE    PTH          64     541.560\n",
       "74   RandomForest_IMAGE    PTH         128     212.630\n",
       "90         XGboost_TEXT    PTH           1     598.560\n",
       "91         XGboost_TEXT    PTH          16     392.560\n",
       "92         XGboost_TEXT    PTH          32     290.290\n",
       "93         XGboost_TEXT    PTH          64     234.110\n",
       "94         XGboost_TEXT    PTH         128     166.300\n",
       "105       XGboost_IMAGE    PTH           1    6382.950\n",
       "106       XGboost_IMAGE    PTH          16      45.910\n",
       "107       XGboost_IMAGE    PTH          32      27.190\n",
       "108       XGboost_IMAGE    PTH          64      16.296\n",
       "109       XGboost_IMAGE    PTH         128      12.370"
      ]
     },
     "execution_count": 5,
     "metadata": {},
     "output_type": "execute_result"
    }
   ],
   "source": [
    "df_pth"
   ]
  },
  {
   "cell_type": "code",
   "execution_count": 8,
   "metadata": {},
   "outputs": [
    {
     "data": {
      "text/plain": [
       "[0.009023438818080334, 0.009023438818080334]"
      ]
     },
     "execution_count": 8,
     "metadata": {},
     "output_type": "execute_result"
    }
   ],
   "source": [
    "# def my_test(df1, df2):\n",
    "#     p_value_list = []\n",
    "#     for model in df2['model'].unique():\n",
    "#         df_sub1 = df1[df1['model'] == model]\n",
    "#         df_sub2 = df2[df2['model'] == model]\n",
    "#         t_stat, p_val = kruskal(df_sub1['cost'], df_sub2['cost'])\n",
    "#         p_value_list.append(p_val)\n",
    "#     # print(df_sub1)\n",
    "#     # print(df_sub2)\n",
    "#     return p_value_list\n",
    "\n",
    "# my_test(df_onnx, df_h5)\n",
    "# my_test(df_onnx, df_json)\n",
    "# my_test(df_onnx, df_joblib)\n",
    "# my_test(df_onnx, df_pth)\n",
    "# my_test(df_onnx, df_coreml)\n",
    "# my_test(df_onnx, df_pmml)"
   ]
  },
  {
   "cell_type": "code",
   "execution_count": 9,
   "metadata": {},
   "outputs": [
    {
     "data": {
      "text/plain": [
       "[3.3e-06, 0.3487367, 0.0916655, 2e-07, 0.0015219, 2.8e-06]"
      ]
     },
     "execution_count": 9,
     "metadata": {},
     "output_type": "execute_result"
    }
   ],
   "source": [
    "p_value_list = []\n",
    "t_stat, p_val = kruskal(df_onnx['cost'], df_h5['cost'])  \n",
    "p_value_list.append(round(p_val, 7))\n",
    "t_stat, p_val = kruskal(df_onnx['cost'], df_json['cost'])\n",
    "p_value_list.append(round(p_val, 7))\n",
    "t_stat, p_val = kruskal(df_onnx['cost'], df_joblib['cost'])\n",
    "p_value_list.append(round(p_val, 7))\n",
    "t_stat, p_val = kruskal(df_onnx['cost'], df_pth['cost'])\n",
    "p_value_list.append(round(p_val, 7))\n",
    "t_stat, p_val = kruskal(df_onnx['cost'], df_coreml['cost'])\n",
    "p_value_list.append(round(p_val, 7))\n",
    "t_stat, p_val = kruskal(df_onnx['cost'], df_pmml['cost']) \n",
    "p_value_list.append(round(p_val, 7))\n",
    "\n",
    "p_value_list"
   ]
  },
  {
   "cell_type": "code",
   "execution_count": 10,
   "metadata": {},
   "outputs": [
    {
     "name": "stdout",
     "output_type": "stream",
     "text": [
      "[True, False, False, True, True, True]\n"
     ]
    }
   ],
   "source": [
    "def holm_bonferroni_correction(p_values, alpha=0.05):\n",
    "    sorted_pvals = sorted((p, i) for i, p in enumerate(p_values))\n",
    "    n = len(p_values)\n",
    "    corrected_results = [False] * n\n",
    "    \n",
    "    for rank, (p_val, original_index) in enumerate(sorted_pvals):\n",
    "        threshold = alpha / (n - rank)\n",
    "        if p_val <= threshold:\n",
    "            corrected_results[original_index] = True\n",
    "        else:\n",
    "            break\n",
    "    \n",
    "    return corrected_results\n",
    "\n",
    "# 示例p值列表\n",
    "p_values = p_value_list\n",
    "\n",
    "# 应用Holm-Bonferroni校正\n",
    "corrected_results = holm_bonferroni_correction(p_values)\n",
    "\n",
    "\n",
    "print(corrected_results)\n"
   ]
  },
  {
   "cell_type": "code",
   "execution_count": null,
   "metadata": {},
   "outputs": [],
   "source": []
  },
  {
   "cell_type": "code",
   "execution_count": null,
   "metadata": {},
   "outputs": [],
   "source": []
  },
  {
   "cell_type": "code",
   "execution_count": null,
   "metadata": {},
   "outputs": [],
   "source": []
  },
  {
   "cell_type": "code",
   "execution_count": null,
   "metadata": {},
   "outputs": [],
   "source": []
  },
  {
   "cell_type": "markdown",
   "metadata": {},
   "source": [
    "# 没用了"
   ]
  },
  {
   "cell_type": "code",
   "execution_count": 55,
   "metadata": {},
   "outputs": [
    {
     "data": {
      "text/plain": [
       "[0.0, 0.1579, 0.0123, 0.05, 0.0303, 0.0]"
      ]
     },
     "execution_count": 55,
     "metadata": {},
     "output_type": "execute_result"
    }
   ],
   "source": [
    "# Perform t-test\n",
    "p_value_list = []\n",
    "t_stat, p_val = ttest_ind(df_onnx['cost'], df_h5['cost'], equal_var=False)  # 0.026\n",
    "p_value_list.append(round(p_val, 4))\n",
    "t_stat, p_val = ttest_ind(df_onnx['cost'], df_json['cost'], equal_var=False) # 0.39\n",
    "p_value_list.append(round(p_val, 4))\n",
    "t_stat, p_val = ttest_ind(df_onnx['cost'], df_joblib['cost'], equal_var=False) # 0.17\n",
    "p_value_list.append(round(p_val, 4))\n",
    "t_stat, p_val = ttest_ind(df_onnx['cost'], df_pth['cost'], equal_var=False) # 0.05\n",
    "p_value_list.append(round(p_val, 4))\n",
    "t_stat, p_val = ttest_ind(df_onnx['cost'], df_coreml['cost'], equal_var=False) # 0.23\n",
    "p_value_list.append(round(p_val, 4))\n",
    "t_stat, p_val = ttest_ind(df_onnx['cost'], df_pmml['cost'], equal_var=False) # 0.017\n",
    "p_value_list.append(round(p_val, 4))\n",
    "\n",
    "# Store the p-value\n",
    "p_value_list"
   ]
  },
  {
   "cell_type": "code",
   "execution_count": null,
   "metadata": {},
   "outputs": [],
   "source": []
  },
  {
   "cell_type": "code",
   "execution_count": 67,
   "metadata": {},
   "outputs": [
    {
     "data": {
      "text/plain": [
       "[3.3e-06, 0.3487367, 0.0916655, 2e-07, 0.0015219, 2.8e-06]"
      ]
     },
     "execution_count": 67,
     "metadata": {},
     "output_type": "execute_result"
    }
   ],
   "source": [
    "from scipy.stats import kruskal\n",
    "\n",
    "p_value_list = []\n",
    "t_stat, p_val = kruskal(df_onnx['cost'], df_h5['cost'])  # 0.026\n",
    "p_value_list.append(round(p_val, 7))\n",
    "t_stat, p_val = kruskal(df_onnx['cost'], df_json['cost']) # 0.39\n",
    "p_value_list.append(round(p_val, 7))\n",
    "t_stat, p_val = kruskal(df_onnx['cost'], df_joblib['cost']) # 0.17\n",
    "p_value_list.append(round(p_val, 7))\n",
    "t_stat, p_val = kruskal(df_onnx['cost'], df_pth['cost']) # 0.05\n",
    "p_value_list.append(round(p_val, 7))\n",
    "t_stat, p_val = kruskal(df_onnx['cost'], df_coreml['cost']) # 0.23\n",
    "p_value_list.append(round(p_val, 7))\n",
    "t_stat, p_val = kruskal(df_onnx['cost'], df_pmml['cost']) # 0.017\n",
    "p_value_list.append(round(p_val, 7))\n",
    "\n",
    "p_value_list"
   ]
  },
  {
   "cell_type": "code",
   "execution_count": 43,
   "metadata": {},
   "outputs": [
    {
     "name": "stdout",
     "output_type": "stream",
     "text": [
      "[True, False, False, True, False]\n"
     ]
    }
   ],
   "source": [
    "def holm_bonferroni_correction(p_values, alpha=0.05):\n",
    "    sorted_pvals = sorted((p, i) for i, p in enumerate(p_values))\n",
    "    n = len(p_values)\n",
    "    corrected_results = [False] * n\n",
    "    \n",
    "    for rank, (p_val, original_index) in enumerate(sorted_pvals):\n",
    "        threshold = alpha / (n - rank)\n",
    "        if p_val <= threshold:\n",
    "            corrected_results[original_index] = True\n",
    "        else:\n",
    "            break\n",
    "    \n",
    "    return corrected_results\n",
    "\n",
    "# 示例p值列表\n",
    "p_values = [0.01, 0.04, 0.03, 0.002, 0.05]\n",
    "\n",
    "# 应用Holm-Bonferroni校正\n",
    "corrected_results = holm_bonferroni_correction(p_values)\n",
    "\n",
    "print(corrected_results)\n"
   ]
  },
  {
   "cell_type": "code",
   "execution_count": null,
   "metadata": {},
   "outputs": [],
   "source": []
  },
  {
   "cell_type": "code",
   "execution_count": 68,
   "metadata": {},
   "outputs": [
    {
     "data": {
      "text/plain": [
       "[0.009023438818080334, 0.009023438818080334]"
      ]
     },
     "execution_count": 68,
     "metadata": {},
     "output_type": "execute_result"
    }
   ],
   "source": [
    "def my_t_test(df1, df2):\n",
    "    p_value_list = []\n",
    "    for model in df2['model'].unique():\n",
    "        df_sub1 = df1[df1['model'] == model]\n",
    "        df_sub2 = df2[df2['model'] == model]\n",
    "        t_stat, p_val = kruskal(df_sub1['cost'], df_sub2['cost'])\n",
    "        # print(df_sub1['cost'])\n",
    "        # print(df_sub2['cost'])\n",
    "        p_value_list.append(p_val)\n",
    "    return p_value_list\n",
    "\n",
    "my_t_test(df_onnx, df_h5)"
   ]
  },
  {
   "cell_type": "code",
   "execution_count": 50,
   "metadata": {},
   "outputs": [
    {
     "name": "stderr",
     "output_type": "stream",
     "text": [
      "/var/folders/tm/w_n0tvhd2jlds4ml_jrhf3yw0000gn/T/ipykernel_67446/3691064243.py:6: RuntimeWarning: Precision loss occurred in moment calculation due to catastrophic cancellation. This occurs when the data are nearly identical. Results may be unreliable.\n",
      "  t_stat, p_val = ttest_ind(df_sub1['cost'], df_sub2['cost'], equal_var=False)  # 0.026\n",
      "/opt/anaconda3/envs/env_name/lib/python3.8/site-packages/scipy/stats/_stats_py.py:1214: RuntimeWarning: divide by zero encountered in divide\n",
      "  var *= np.divide(n, n-ddof)  # to avoid error on division by zero\n",
      "/opt/anaconda3/envs/env_name/lib/python3.8/site-packages/scipy/stats/_stats_py.py:1214: RuntimeWarning: invalid value encountered in scalar multiply\n",
      "  var *= np.divide(n, n-ddof)  # to avoid error on division by zero\n"
     ]
    },
    {
     "data": {
      "text/plain": [
       "[0.24991423892998968, nan, 0.47951015977698425, nan, 0.41652077996217834]"
      ]
     },
     "execution_count": 50,
     "metadata": {},
     "output_type": "execute_result"
    }
   ],
   "source": [
    "# my_t_test(df_onnx, df_h5)\n",
    "# my_t_test(df_onnx, df_json)\n",
    "# my_t_test(df_onnx, df_joblib)\n",
    "# my_t_test(df_onnx, df_pth)\n",
    "# my_t_test(df_onnx, df_pmml)\n"
   ]
  },
  {
   "cell_type": "code",
   "execution_count": null,
   "metadata": {},
   "outputs": [],
   "source": []
  }
 ],
 "metadata": {
  "kernelspec": {
   "display_name": "Python 3.8.18 ('env_name')",
   "language": "python",
   "name": "python3"
  },
  "language_info": {
   "codemirror_mode": {
    "name": "ipython",
    "version": 3
   },
   "file_extension": ".py",
   "mimetype": "text/x-python",
   "name": "python",
   "nbconvert_exporter": "python",
   "pygments_lexer": "ipython3",
   "version": "3.8.18"
  },
  "orig_nbformat": 4,
  "vscode": {
   "interpreter": {
    "hash": "37cc1b05901c8571bea9fc4b42e3f528ca4394d6e6719f1b5d30d208c4a3cfc1"
   }
  }
 },
 "nbformat": 4,
 "nbformat_minor": 2
}
